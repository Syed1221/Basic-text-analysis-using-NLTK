{
  "nbformat": 4,
  "nbformat_minor": 0,
  "metadata": {
    "colab": {
      "name": "NLP",
      "provenance": [],
      "include_colab_link": true
    },
    "kernelspec": {
      "name": "python3",
      "display_name": "Python 3"
    }
  },
  "cells": [
    {
      "cell_type": "markdown",
      "metadata": {
        "id": "view-in-github",
        "colab_type": "text"
      },
      "source": [
        "<a href=\"https://colab.research.google.com/github/Syed1221/Basic-text-analysis-using-NLTK/blob/main/NLP.ipynb\" target=\"_parent\"><img src=\"https://colab.research.google.com/assets/colab-badge.svg\" alt=\"Open In Colab\"/></a>"
      ]
    },
    {
      "cell_type": "markdown",
      "metadata": {
        "id": "SgFAaoQ4CZoO"
      },
    {
      "cell_type": "code",
      "metadata": {
        "id": "DyQaaHCz8-z0"
      },
      "source": [
        "import pandas as pd \n",
        "import numpy as np\n",
        "import string\n",
        "import nltk\n",
        "\n",
        "from nltk.tokenize import word_tokenize\n",
        "\n",
        "#nltk.download('wordnet')\n",
        "\n",
        "#nltk.download('stopwords')"
      ],
      "execution_count": null,
      "outputs": []
    },
    {
      "cell_type": "code",
      "metadata": {
        "id": "4D24WacH_Gbp"
      },
      "source": [
        "data = pd.read_csv('data.csv')"
      ],
      "execution_count": null,
      "outputs": []
    },
    {
      "cell_type": "code",
      "metadata": {
        "id": "gc4hVhjF_OnE",
        "outputId": "745c48e8-c57c-4c68-9889-36189b9d2de9",
        "colab": {
          "base_uri": "https://localhost:8080/",
          "height": 432
        }
      },
      "source": [
        "data.head()"
      ],
      "execution_count": null,
      "outputs": [
        {
          "output_type": "execute_result",
          "data": {
            "text/html": [
              "<div>\n",
              "<style scoped>\n",
              "    .dataframe tbody tr th:only-of-type {\n",
              "        vertical-align: middle;\n",
              "    }\n",
              "\n",
              "    .dataframe tbody tr th {\n",
              "        vertical-align: top;\n",
              "    }\n",
              "\n",
              "    .dataframe thead th {\n",
              "        text-align: right;\n",
              "    }\n",
              "</style>\n",
              "<table border=\"1\" class=\"dataframe\">\n",
              "  <thead>\n",
              "    <tr style=\"text-align: right;\">\n",
              "      <th></th>\n",
              "      <th>Website</th>\n",
              "      <th>Rating</th>\n",
              "      <th>Review_title</th>\n",
              "      <th>Review_date</th>\n",
              "      <th>Review_text</th>\n",
              "      <th>Unnamed: 5</th>\n",
              "    </tr>\n",
              "  </thead>\n",
              "  <tbody>\n",
              "    <tr>\n",
              "      <th>0</th>\n",
              "      <td>Trip Advisor</td>\n",
              "      <td>Excellent</td>\n",
              "      <td>Great Indian Food For a Cause</td>\n",
              "      <td>11 March 2020</td>\n",
              "      <td>This place is swarming with Gadventurers and C...</td>\n",
              "      <td>NaN</td>\n",
              "    </tr>\n",
              "    <tr>\n",
              "      <th>1</th>\n",
              "      <td>Trip Advisor</td>\n",
              "      <td>Excellent</td>\n",
              "      <td>Dinner</td>\n",
              "      <td>11 March 2020</td>\n",
              "      <td>Visited about a week ago and we  were very imp...</td>\n",
              "      <td>NaN</td>\n",
              "    </tr>\n",
              "    <tr>\n",
              "      <th>2</th>\n",
              "      <td>Trip Advisor</td>\n",
              "      <td>Excellent</td>\n",
              "      <td>Kitchen with a Cause - FANTASTIC</td>\n",
              "      <td>2 March 2020</td>\n",
              "      <td>I enjoyed a fantastic meal at KWAC thanks to B...</td>\n",
              "      <td>NaN</td>\n",
              "    </tr>\n",
              "    <tr>\n",
              "      <th>3</th>\n",
              "      <td>Trip Advisor</td>\n",
              "      <td>Excellent</td>\n",
              "      <td>Intrepid Tour experience</td>\n",
              "      <td>25 February 2020</td>\n",
              "      <td>This is a lovely hidden gem in Karol Bagh, wal...</td>\n",
              "      <td>NaN</td>\n",
              "    </tr>\n",
              "    <tr>\n",
              "      <th>4</th>\n",
              "      <td>Trip Advisor</td>\n",
              "      <td>Excellent</td>\n",
              "      <td>Great restaurant!</td>\n",
              "      <td>23 February 2020</td>\n",
              "      <td>The restaurant is a social project, so 5 stars...</td>\n",
              "      <td>NaN</td>\n",
              "    </tr>\n",
              "  </tbody>\n",
              "</table>\n",
              "</div>"
            ],
            "text/plain": [
              "        Website  ... Unnamed: 5\n",
              "0  Trip Advisor  ...        NaN\n",
              "1  Trip Advisor  ...        NaN\n",
              "2  Trip Advisor  ...        NaN\n",
              "3  Trip Advisor  ...        NaN\n",
              "4  Trip Advisor  ...        NaN\n",
              "\n",
              "[5 rows x 6 columns]"
            ]
          },
          "metadata": {
            "tags": []
          },
          "execution_count": 6
        }
      ]
    },
    {
      "cell_type": "code",
      "metadata": {
        "id": "we_REBqO_q0R",
        "outputId": "8f8fc760-e1eb-4f22-c8c7-1b408b6faefc",
        "colab": {
          "base_uri": "https://localhost:8080/",
          "height": 573
        }
      },
      "source": [
        "\n",
        "reviews = data['Review_text'].astype(str)\n",
        "data[\"text_lower\"] = data[\"Review_text\"].str.lower()\n",
        "data.head()"
      ],
      "execution_count": null,
      "outputs": [
        {
          "output_type": "execute_result",
          "data": {
            "text/html": [
              "<div>\n",
              "<style scoped>\n",
              "    .dataframe tbody tr th:only-of-type {\n",
              "        vertical-align: middle;\n",
              "    }\n",
              "\n",
              "    .dataframe tbody tr th {\n",
              "        vertical-align: top;\n",
              "    }\n",
              "\n",
              "    .dataframe thead th {\n",
              "        text-align: right;\n",
              "    }\n",
              "</style>\n",
              "<table border=\"1\" class=\"dataframe\">\n",
              "  <thead>\n",
              "    <tr style=\"text-align: right;\">\n",
              "      <th></th>\n",
              "      <th>Website</th>\n",
              "      <th>Rating</th>\n",
              "      <th>Review_title</th>\n",
              "      <th>Review_date</th>\n",
              "      <th>Review_text</th>\n",
              "      <th>Unnamed: 5</th>\n",
              "      <th>text_lower</th>\n",
              "    </tr>\n",
              "  </thead>\n",
              "  <tbody>\n",
              "    <tr>\n",
              "      <th>0</th>\n",
              "      <td>Trip Advisor</td>\n",
              "      <td>Excellent</td>\n",
              "      <td>Great Indian Food For a Cause</td>\n",
              "      <td>11 March 2020</td>\n",
              "      <td>This place is swarming with Gadventurers and C...</td>\n",
              "      <td>NaN</td>\n",
              "      <td>this place is swarming with gadventurers and c...</td>\n",
              "    </tr>\n",
              "    <tr>\n",
              "      <th>1</th>\n",
              "      <td>Trip Advisor</td>\n",
              "      <td>Excellent</td>\n",
              "      <td>Dinner</td>\n",
              "      <td>11 March 2020</td>\n",
              "      <td>Visited about a week ago and we  were very imp...</td>\n",
              "      <td>NaN</td>\n",
              "      <td>visited about a week ago and we  were very imp...</td>\n",
              "    </tr>\n",
              "    <tr>\n",
              "      <th>2</th>\n",
              "      <td>Trip Advisor</td>\n",
              "      <td>Excellent</td>\n",
              "      <td>Kitchen with a Cause - FANTASTIC</td>\n",
              "      <td>2 March 2020</td>\n",
              "      <td>I enjoyed a fantastic meal at KWAC thanks to B...</td>\n",
              "      <td>NaN</td>\n",
              "      <td>i enjoyed a fantastic meal at kwac thanks to b...</td>\n",
              "    </tr>\n",
              "    <tr>\n",
              "      <th>3</th>\n",
              "      <td>Trip Advisor</td>\n",
              "      <td>Excellent</td>\n",
              "      <td>Intrepid Tour experience</td>\n",
              "      <td>25 February 2020</td>\n",
              "      <td>This is a lovely hidden gem in Karol Bagh, wal...</td>\n",
              "      <td>NaN</td>\n",
              "      <td>this is a lovely hidden gem in karol bagh, wal...</td>\n",
              "    </tr>\n",
              "    <tr>\n",
              "      <th>4</th>\n",
              "      <td>Trip Advisor</td>\n",
              "      <td>Excellent</td>\n",
              "      <td>Great restaurant!</td>\n",
              "      <td>23 February 2020</td>\n",
              "      <td>The restaurant is a social project, so 5 stars...</td>\n",
              "      <td>NaN</td>\n",
              "      <td>the restaurant is a social project, so 5 stars...</td>\n",
              "    </tr>\n",
              "  </tbody>\n",
              "</table>\n",
              "</div>"
            ],
            "text/plain": [
              "        Website  ...                                         text_lower\n",
              "0  Trip Advisor  ...  this place is swarming with gadventurers and c...\n",
              "1  Trip Advisor  ...  visited about a week ago and we  were very imp...\n",
              "2  Trip Advisor  ...  i enjoyed a fantastic meal at kwac thanks to b...\n",
              "3  Trip Advisor  ...  this is a lovely hidden gem in karol bagh, wal...\n",
              "4  Trip Advisor  ...  the restaurant is a social project, so 5 stars...\n",
              "\n",
              "[5 rows x 7 columns]"
            ]
          },
          "metadata": {
            "tags": []
          },
          "execution_count": 6
        }
      ]
    },
    {
      "cell_type": "code",
      "metadata": {
        "id": "e76_r5SqAJka",
        "outputId": "fc70a18e-e682-4b4f-c165-1bce8d4ad956",
        "colab": {
          "base_uri": "https://localhost:8080/",
          "height": 556
        }
      },
      "source": [
        "#Punctuation removal\n",
        "\n",
        "data.drop([\"text_lower\"], axis=1, inplace=True)\n",
        "\n",
        "PUNCT_TO_REMOVE = string.punctuation\n",
        "def remove_punctuation(Review_text):\n",
        "    \"\"\"custom function to remove the punctuation\"\"\"\n",
        "    return Review_text.translate(str.maketrans('', '', PUNCT_TO_REMOVE))\n",
        "\n",
        "data[\"text_wo_punct\"] = data[\"Review_text\"].apply(lambda text: remove_punctuation(text))\n",
        "data.head()\n"
      ],
      "execution_count": null,
      "outputs": [
        {
          "output_type": "execute_result",
          "data": {
            "text/html": [
              "<div>\n",
              "<style scoped>\n",
              "    .dataframe tbody tr th:only-of-type {\n",
              "        vertical-align: middle;\n",
              "    }\n",
              "\n",
              "    .dataframe tbody tr th {\n",
              "        vertical-align: top;\n",
              "    }\n",
              "\n",
              "    .dataframe thead th {\n",
              "        text-align: right;\n",
              "    }\n",
              "</style>\n",
              "<table border=\"1\" class=\"dataframe\">\n",
              "  <thead>\n",
              "    <tr style=\"text-align: right;\">\n",
              "      <th></th>\n",
              "      <th>Website</th>\n",
              "      <th>Rating</th>\n",
              "      <th>Review_title</th>\n",
              "      <th>Review_date</th>\n",
              "      <th>Review_text</th>\n",
              "      <th>Unnamed: 5</th>\n",
              "      <th>text_wo_punct</th>\n",
              "    </tr>\n",
              "  </thead>\n",
              "  <tbody>\n",
              "    <tr>\n",
              "      <th>0</th>\n",
              "      <td>Trip Advisor</td>\n",
              "      <td>Excellent</td>\n",
              "      <td>Great Indian Food For a Cause</td>\n",
              "      <td>11 March 2020</td>\n",
              "      <td>This place is swarming with Gadventurers and C...</td>\n",
              "      <td>NaN</td>\n",
              "      <td>This place is swarming with Gadventurers and C...</td>\n",
              "    </tr>\n",
              "    <tr>\n",
              "      <th>1</th>\n",
              "      <td>Trip Advisor</td>\n",
              "      <td>Excellent</td>\n",
              "      <td>Dinner</td>\n",
              "      <td>11 March 2020</td>\n",
              "      <td>Visited about a week ago and we  were very imp...</td>\n",
              "      <td>NaN</td>\n",
              "      <td>Visited about a week ago and we  were very imp...</td>\n",
              "    </tr>\n",
              "    <tr>\n",
              "      <th>2</th>\n",
              "      <td>Trip Advisor</td>\n",
              "      <td>Excellent</td>\n",
              "      <td>Kitchen with a Cause - FANTASTIC</td>\n",
              "      <td>2 March 2020</td>\n",
              "      <td>I enjoyed a fantastic meal at KWAC thanks to B...</td>\n",
              "      <td>NaN</td>\n",
              "      <td>I enjoyed a fantastic meal at KWAC thanks to B...</td>\n",
              "    </tr>\n",
              "    <tr>\n",
              "      <th>3</th>\n",
              "      <td>Trip Advisor</td>\n",
              "      <td>Excellent</td>\n",
              "      <td>Intrepid Tour experience</td>\n",
              "      <td>25 February 2020</td>\n",
              "      <td>This is a lovely hidden gem in Karol Bagh, wal...</td>\n",
              "      <td>NaN</td>\n",
              "      <td>This is a lovely hidden gem in Karol Bagh walk...</td>\n",
              "    </tr>\n",
              "    <tr>\n",
              "      <th>4</th>\n",
              "      <td>Trip Advisor</td>\n",
              "      <td>Excellent</td>\n",
              "      <td>Great restaurant!</td>\n",
              "      <td>23 February 2020</td>\n",
              "      <td>The restaurant is a social project, so 5 stars...</td>\n",
              "      <td>NaN</td>\n",
              "      <td>The restaurant is a social project so 5 stars ...</td>\n",
              "    </tr>\n",
              "  </tbody>\n",
              "</table>\n",
              "</div>"
            ],
            "text/plain": [
              "        Website  ...                                      text_wo_punct\n",
              "0  Trip Advisor  ...  This place is swarming with Gadventurers and C...\n",
              "1  Trip Advisor  ...  Visited about a week ago and we  were very imp...\n",
              "2  Trip Advisor  ...  I enjoyed a fantastic meal at KWAC thanks to B...\n",
              "3  Trip Advisor  ...  This is a lovely hidden gem in Karol Bagh walk...\n",
              "4  Trip Advisor  ...  The restaurant is a social project so 5 stars ...\n",
              "\n",
              "[5 rows x 7 columns]"
            ]
          },
          "metadata": {
            "tags": []
          },
          "execution_count": 7
        }
      ]
    },
    {
      "cell_type": "code",
      "metadata": {
        "id": "YSfD2cSYCfSQ"
      },
      "source": [
        "# Removal of stop words\n",
        "\n",
        "from nltk.corpus import stopwords\n",
        "\", \".join(stopwords.words('english'))\n",
        "\n",
        "STOPWORDS = set(stopwords.words('english'))\n",
        "def remove_stopwords(text):\n",
        "    \"\"\"custom function to remove the stopwords\"\"\"\n",
        "    return \" \".join([word for word in str(text).split() if word not in STOPWORDS])\n",
        "\n",
        "data[\"text_wo_stop\"] = data[\"text_wo_punct\"].apply(lambda text: remove_stopwords(text))\n",
        "data.head()\n",
        "\n",
        "\n"
      ],
      "execution_count": null,
      "outputs": []
    },
    {
      "cell_type": "code",
      "metadata": {
        "id": "xJhqvbDiDMOr"
      },
      "source": [
        "\n",
        "# Removal of frequent words\n",
        "\n",
        "from collections import Counter\n",
        "cnt = Counter()\n",
        "for text in data[\"text_wo_stop\"].values:\n",
        "    for word in text.split():\n",
        "        cnt[word] += 1\n",
        "        \n",
        "cnt.most_common(10)\n",
        "\n",
        "\n"
      ],
      "execution_count": null,
      "outputs": []
    },
    {
      "cell_type": "code",
      "metadata": {
        "id": "jm7uY3dEDQMU"
      },
      "source": [
        "\n",
        "# Stemming\n",
        "\n",
        "from nltk.stem.porter import PorterStemmer\n",
        "\n",
        "stemmer = PorterStemmer()\n",
        "def stem_words(text):\n",
        "    return \" \".join([stemmer.stem(word) for word in text.split()])\n",
        "\n",
        "data[\"text_stemmed\"] = data[\"Review_text\"].apply(lambda text: stem_words(text))\n",
        "data.head()\n",
        "\n",
        "\n"
      ],
      "execution_count": null,
      "outputs": []
    },
    {
      "cell_type": "code",
      "metadata": {
        "id": "IwUsgYAjDVVH"
      },
      "source": [
        "# Lemmitization\n",
        "\n",
        "\n",
        "\n",
        "\n",
        "from nltk.stem import WordNetLemmatizer\n",
        "\n",
        "lemmatizer = WordNetLemmatizer()\n",
        "def lemmatize_words(text):\n",
        "    return \" \".join([lemmatizer.lemmatize(word) for word in text.split()])\n",
        "\n",
        "data[\"text_lemmatized\"] = data[\"Review_text\"].apply(lambda text: lemmatize_words(text))\n",
        "data.head()\n",
        "\n",
        "lemmatizer.lemmatize(\"running\")\n",
        "\n",
        "\n",
        "\n",
        "from collections import Counter\n",
        "cnt = Counter()\n",
        "for text in data[\"text_wo_stop\"].values:\n",
        "    for word in text.split():\n",
        "        cnt[word] += 1\n",
        "        \n",
        "print(cnt.most_common(10))\n"
      ],
      "execution_count": null,
      "outputs": []
    },
    {
      "cell_type": "code",
      "metadata": {
        "id": "CHRns8GqDYRZ"
      },
      "source": [
        "\n",
        "# Checking the polarity of the sentence\n",
        "\n",
        "from textblob import TextBlob\n",
        "data['sentiment'] = data['Review_text'][:212].apply(lambda x: TextBlob(x).sentiment)\n",
        "\n",
        "print(data['sentiment'])"
      ],
      "execution_count": null,
      "outputs": []
    }
  ]
}
